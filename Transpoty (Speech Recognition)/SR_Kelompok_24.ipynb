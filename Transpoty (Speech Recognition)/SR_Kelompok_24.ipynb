{
  "nbformat": 4,
  "nbformat_minor": 0,
  "metadata": {
    "colab": {
      "provenance": []
    },
    "kernelspec": {
      "name": "python3",
      "display_name": "Python 3"
    },
    "language_info": {
      "name": "python"
    }
  },
  "cells": [
    {
      "cell_type": "code",
      "source": [
        "!pip install assemblyai"
      ],
      "metadata": {
        "id": "hqHkfG8hUPOD",
        "colab": {
          "base_uri": "https://localhost:8080/"
        },
        "outputId": "72202f61-3a09-46db-f025-9aef4d174be6"
      },
      "execution_count": null,
      "outputs": [
        {
          "output_type": "stream",
          "name": "stdout",
          "text": [
            "Looking in indexes: https://pypi.org/simple, https://us-python.pkg.dev/colab-wheels/public/simple/\n",
            "Collecting assemblyai\n",
            "  Downloading assemblyai-0.10.0-py3-none-any.whl (54 kB)\n",
            "\u001b[2K     \u001b[90m━━━━━━━━━━━━━━━━━━━━━━━━━━━━━━━━━━━━━━━━\u001b[0m \u001b[32m54.7/54.7 kB\u001b[0m \u001b[31m5.8 MB/s\u001b[0m eta \u001b[36m0:00:00\u001b[0m\n",
            "\u001b[?25hCollecting httpx>=0.19.0 (from assemblyai)\n",
            "  Downloading httpx-0.24.1-py3-none-any.whl (75 kB)\n",
            "\u001b[2K     \u001b[90m━━━━━━━━━━━━━━━━━━━━━━━━━━━━━━━━━━━━━━━━\u001b[0m \u001b[32m75.4/75.4 kB\u001b[0m \u001b[31m9.5 MB/s\u001b[0m eta \u001b[36m0:00:00\u001b[0m\n",
            "\u001b[?25hRequirement already satisfied: pydantic>=1.7.0 in /usr/local/lib/python3.10/dist-packages (from assemblyai) (1.10.7)\n",
            "Requirement already satisfied: typing-extensions<4.6,>=3.7 in /usr/local/lib/python3.10/dist-packages (from assemblyai) (4.5.0)\n",
            "Collecting websockets>=11.0 (from assemblyai)\n",
            "  Downloading websockets-11.0.3-cp310-cp310-manylinux_2_5_x86_64.manylinux1_x86_64.manylinux_2_17_x86_64.manylinux2014_x86_64.whl (129 kB)\n",
            "\u001b[2K     \u001b[90m━━━━━━━━━━━━━━━━━━━━━━━━━━━━━━━━━━━━━━\u001b[0m \u001b[32m129.9/129.9 kB\u001b[0m \u001b[31m14.5 MB/s\u001b[0m eta \u001b[36m0:00:00\u001b[0m\n",
            "\u001b[?25hRequirement already satisfied: certifi in /usr/local/lib/python3.10/dist-packages (from httpx>=0.19.0->assemblyai) (2022.12.7)\n",
            "Collecting httpcore<0.18.0,>=0.15.0 (from httpx>=0.19.0->assemblyai)\n",
            "  Downloading httpcore-0.17.2-py3-none-any.whl (72 kB)\n",
            "\u001b[2K     \u001b[90m━━━━━━━━━━━━━━━━━━━━━━━━━━━━━━━━━━━━━━━━\u001b[0m \u001b[32m72.5/72.5 kB\u001b[0m \u001b[31m7.6 MB/s\u001b[0m eta \u001b[36m0:00:00\u001b[0m\n",
            "\u001b[?25hRequirement already satisfied: idna in /usr/local/lib/python3.10/dist-packages (from httpx>=0.19.0->assemblyai) (3.4)\n",
            "Requirement already satisfied: sniffio in /usr/local/lib/python3.10/dist-packages (from httpx>=0.19.0->assemblyai) (1.3.0)\n",
            "Collecting h11<0.15,>=0.13 (from httpcore<0.18.0,>=0.15.0->httpx>=0.19.0->assemblyai)\n",
            "  Downloading h11-0.14.0-py3-none-any.whl (58 kB)\n",
            "\u001b[2K     \u001b[90m━━━━━━━━━━━━━━━━━━━━━━━━━━━━━━━━━━━━━━━━\u001b[0m \u001b[32m58.3/58.3 kB\u001b[0m \u001b[31m7.0 MB/s\u001b[0m eta \u001b[36m0:00:00\u001b[0m\n",
            "\u001b[?25hRequirement already satisfied: anyio<5.0,>=3.0 in /usr/local/lib/python3.10/dist-packages (from httpcore<0.18.0,>=0.15.0->httpx>=0.19.0->assemblyai) (3.6.2)\n",
            "Installing collected packages: websockets, h11, httpcore, httpx, assemblyai\n",
            "Successfully installed assemblyai-0.10.0 h11-0.14.0 httpcore-0.17.2 httpx-0.24.1 websockets-11.0.3\n"
          ]
        }
      ]
    },
    {
      "cell_type": "code",
      "source": [
        "!apt install portaudio19-dev\n",
        "!pip install assemblyai[extras]"
      ],
      "metadata": {
        "id": "n55E8JRRUmc_"
      },
      "execution_count": null,
      "outputs": []
    },
    {
      "cell_type": "code",
      "source": [
        "!pip install nltk"
      ],
      "metadata": {
        "id": "M-qmQhBGb5qy",
        "colab": {
          "base_uri": "https://localhost:8080/"
        },
        "outputId": "0e97a3d3-0b8c-4e49-86cf-4533dd0cc16a"
      },
      "execution_count": null,
      "outputs": [
        {
          "output_type": "stream",
          "name": "stdout",
          "text": [
            "Looking in indexes: https://pypi.org/simple, https://us-python.pkg.dev/colab-wheels/public/simple/\n",
            "Requirement already satisfied: nltk in /usr/local/lib/python3.10/dist-packages (3.8.1)\n",
            "Requirement already satisfied: click in /usr/local/lib/python3.10/dist-packages (from nltk) (8.1.3)\n",
            "Requirement already satisfied: joblib in /usr/local/lib/python3.10/dist-packages (from nltk) (1.2.0)\n",
            "Requirement already satisfied: regex>=2021.8.3 in /usr/local/lib/python3.10/dist-packages (from nltk) (2022.10.31)\n",
            "Requirement already satisfied: tqdm in /usr/local/lib/python3.10/dist-packages (from nltk) (4.65.0)\n"
          ]
        }
      ]
    },
    {
      "cell_type": "code",
      "source": [
        "import assemblyai as aai\n",
        "\n",
        "aai.settings.api_key = \"28c3dac828f949168c0cb858fbf6a98a\"\n",
        "transcriber = aai.Transcriber()\n",
        "\n",
        "\n",
        "transcript = transcriber.transcribe(\"littlethings.mp3\")\n",
        "\n",
        "print(transcript.text)"
      ],
      "metadata": {
        "colab": {
          "base_uri": "https://localhost:8080/"
        },
        "id": "cMb-lZ6nSop9",
        "outputId": "0e15998e-9ff9-4e55-c032-014a85eb7174"
      },
      "execution_count": null,
      "outputs": [
        {
          "output_type": "stream",
          "name": "stdout",
          "text": [
            "Like it's made just me for bad this in mind it was to be and I'm joining up the dots with the freckles on your cheeks and it all makes sense to me. I know you've never loved the Crinkles. By your eyes when you smile. You've never loved your stomach with eyes. The dimples in your back at the bottom of your spine. But I'll love them endlessly. I won't let these little things slip out of my mouth. But if I do, it's you always you they add up to I'm in love with you and all these little things. You can't go to bed without a cup of tea. Maybe that's the reason that you talk in. Your sleep all those conversations are the secrets that I keep though it makes no sense to me I know you never love the sound of your voice on tape you never want to know how much you weigh you still have to squeeze into your genes. But you're perfect to me. I won't let these little things slip out of my mouth. But if it's true, it's you. It's you they add up to. I'm in love with you. And all these little things. You'll never love yourself half as much as I love you. You'll never treat yourself right, darling. But I don't want you to. If I let you know I'm here for you maybe you love yourself like I love you and I've just let these little things slip out of my mouth cause it's you. Oh, it's you. It's you. They add up. To and I'm in love with you though these little things I won't let these little things slip out of my mouth. But if it's true, it's you it's you they add up to. I'm in love with you and all your little things.\n"
          ]
        }
      ]
    },
    {
      "cell_type": "code",
      "source": [
        "import nltk\n",
        "\n",
        "def calculate_wer(original, transcribed):\n",
        "    original_words = original.split()\n",
        "    transcribed_words = transcribed.split()\n",
        "\n",
        "    # Create a reference transcript for calculating WER\n",
        "    reference = nltk.edit_distance(original_words, transcribed_words)\n",
        "\n",
        "    # Calculate WER\n",
        "    wer = reference / len(original_words)\n",
        "\n",
        "    return wer"
      ],
      "metadata": {
        "id": "doGNQYUOY65R"
      },
      "execution_count": null,
      "outputs": []
    },
    {
      "cell_type": "code",
      "source": [
        "#usage\n",
        "original_lyrics = \"Your hand fits in mine like it's made just for me But bear this mind, it was meant to be And I'm joining up the dots, with the freckles on your cheeks And it all makes sense to me I know you've never loved The crinkles by your eyes when you smile You've never loved your stomach or your thighs The dimples in your back at the bottom of your spine But I'll love them endlessly I won't let these little things slip out of my mouth But if I do, it's you Oh, it's you, they add up to I'm in love with you And all these little things You can't go to bed without a cup of tea And maybe that's the reason that you talk in your sleep And all those conversations are the secrets that I keep Though it makes no sense to me I know you never loved the sound of your voice on tape You never want to know how much you weigh You still have to squeeze into your jeans But you're perfect to me I won't let these little things slip out of my mouth But if it's true, it's you It's you, they add up to I'm in love with you And all these little things You'll never love yourself half as much as I love you And you'll never treat yourself right, darling, but I want you to If I let you know, I'm here for you Maybe you'll love yourself like I love you, oh And I've just let these little things slip out of my mouth 'Cause it's you, oh, it's you It's you, they add up to And I'm in love with you And all these little things I won't let these little things slip out of my mouth But if it's true, it's you It's you, they add up to I'm in love with you And all your little things\"\n",
        "transcribed_lyrics = transcript.text\n",
        "\n",
        "wer_score = calculate_wer(original_lyrics, transcribed_lyrics)\n",
        "print(\"Word Error Rate (WER): {:.2%}\".format(wer_score))"
      ],
      "metadata": {
        "colab": {
          "base_uri": "https://localhost:8080/"
        },
        "id": "KVu9HZVpe0fA",
        "outputId": "d96261b2-9fe4-4563-b46d-7dbe6b1407eb"
      },
      "execution_count": null,
      "outputs": [
        {
          "output_type": "stream",
          "name": "stdout",
          "text": [
            "Word Error Rate (WER): 24.38%\n"
          ]
        }
      ]
    },
    {
      "cell_type": "code",
      "source": [
        "!pip install deep-translator"
      ],
      "metadata": {
        "id": "pCjP325RflQd"
      },
      "execution_count": null,
      "outputs": []
    },
    {
      "cell_type": "code",
      "source": [
        "#TRANSLATOR EN TO ID\n",
        "from deep_translator import GoogleTranslator\n",
        "\n",
        "text1 = transcript.text\n",
        "\n",
        "translated_transcript_text = GoogleTranslator(source='auto', target='chinese (simplified)').translate(text1)\n",
        "\n",
        "print(text1)\n",
        "print(translated_transcript_text)"
      ],
      "metadata": {
        "colab": {
          "base_uri": "https://localhost:8080/"
        },
        "id": "9L9MsqIEks-H",
        "outputId": "86536b4d-4ae4-49e8-a353-45e954c12479"
      },
      "execution_count": null,
      "outputs": [
        {
          "output_type": "stream",
          "name": "stdout",
          "text": [
            "Like it's made just me for bad this in mind it was to be and I'm joining up the dots with the freckles on your cheeks and it all makes sense to me. I know you've never loved the Crinkles. By your eyes when you smile. You've never loved your stomach with eyes. The dimples in your back at the bottom of your spine. But I'll love them endlessly. I won't let these little things slip out of my mouth. But if I do, it's you always you they add up to I'm in love with you and all these little things. You can't go to bed without a cup of tea. Maybe that's the reason that you talk in. Your sleep all those conversations are the secrets that I keep though it makes no sense to me I know you never love the sound of your voice on tape you never want to know how much you weigh you still have to squeeze into your genes. But you're perfect to me. I won't let these little things slip out of my mouth. But if it's true, it's you. It's you they add up to. I'm in love with you. And all these little things. You'll never love yourself half as much as I love you. You'll never treat yourself right, darling. But I don't want you to. If I let you know I'm here for you maybe you love yourself like I love you and I've just let these little things slip out of my mouth cause it's you. Oh, it's you. It's you. They add up. To and I'm in love with you though these little things I won't let these little things slip out of my mouth. But if it's true, it's you it's you they add up to. I'm in love with you and all your little things.\n",
            "就像它让我永远变坏一样，这就是我要记住的，我正在把你脸颊上的雀斑和雀斑结合起来，这对我来说都是有意义的。我知道你从来没有喜欢过 Crinkles。在你微笑的时候看着你的眼睛。你从来没有用眼睛爱过你的胃。脊柱底部背部的酒窝。但我会无休止地爱他们。我不会让这些小事从我嘴里溜出去的。但如果我这样做了，你永远是你，他们加起来就是我爱你和所有这些小事。你不能不喝杯茶就去睡觉。也许这就是你说话的原因。你的睡眠所有这些谈话都是我保守的秘密虽然对我来说毫无意义我知道你永远不会喜欢磁带上你的声音你永远不想知道你的体重你还有多少必须挤进你的基因。但你在我眼里是完美的。我不会让这些小事从我嘴里溜出去的。但如果这是真的，那就是你。他们加起来就是你。我爱上了你。还有那些小事情。你永远不会像我爱你那样爱自己一半。亲爱的，你永远不会善待自己。但我不希望你这样做。如果我让你知道我在这里等你，也许你会像我爱你一样爱自己，而我只是让这些小事从我嘴里溜走，因为是你。哦，原来是你。是你。他们加起来。 To 和 I loves with you though these little things 我不会让这些小事从我嘴里溜走。但如果这是真的，那就是你，他们加起来就是你。我爱你和你所有的小事。\n"
          ]
        }
      ]
    },
    {
      "cell_type": "code",
      "source": [
        "text2 = original_lyrics\n",
        "translated_original_lyrics = GoogleTranslator(source='auto', target='chinese (simplified)').translate(text2)\n",
        "\n",
        "print(text2)\n",
        "print(translated_original_lyrics)"
      ],
      "metadata": {
        "colab": {
          "base_uri": "https://localhost:8080/"
        },
        "id": "nEEYKSADlVLB",
        "outputId": "2558fdb3-d191-4415-deef-5f6f753baeb8"
      },
      "execution_count": null,
      "outputs": [
        {
          "output_type": "stream",
          "name": "stdout",
          "text": [
            "Your hand fits in mine like it's made just for me But bear this mind, it was meant to be And I'm joining up the dots, with the freckles on your cheeks And it all makes sense to me I know you've never loved The crinkles by your eyes when you smile You've never loved your stomach or your thighs The dimples in your back at the bottom of your spine But I'll love them endlessly I won't let these little things slip out of my mouth But if I do, it's you Oh, it's you, they add up to I'm in love with you And all these little things You can't go to bed without a cup of tea And maybe that's the reason that you talk in your sleep And all those conversations are the secrets that I keep Though it makes no sense to me I know you never loved the sound of your voice on tape You never want to know how much you weigh You still have to squeeze into your jeans But you're perfect to me I won't let these little things slip out of my mouth But if it's true, it's you It's you, they add up to I'm in love with you And all these little things You'll never love yourself half as much as I love you And you'll never treat yourself right, darling, but I want you to If I let you know, I'm here for you Maybe you'll love yourself like I love you, oh And I've just let these little things slip out of my mouth 'Cause it's you, oh, it's you It's you, they add up to And I'm in love with you And all these little things I won't let these little things slip out of my mouth But if it's true, it's you It's you, they add up to I'm in love with you And all your little things\n",
            "你的手适合我，就像它是为我量身定做的但记住这一点，这是命中注定的我正在将点与你脸颊上的雀斑连接起来这对我来说都是有意义的我知道你从未爱过你微笑时眼角的皱纹你从来没有爱过你的肚子和大腿你背上脊椎底部的酒窝但我会永远爱它们我不会让这些小事从我嘴里溜走但是如果我这样做，那就是你哦，是你，它们加起来就是我爱你还有所有这些小事你不能不喝杯茶就上床睡觉也许这就是你睡梦中说话的原因所有这些对话都是我保守的秘密虽然这对我来说毫无意义我知道你从来不喜欢磁带上你的声音你从来不想知道你有多重你仍然必须挤进牛仔裤但你对我来说很完美我不会让这些小事从我嘴里溜走但如果这是真的，那就是你就是你，它们加起来就是我爱你所有这些小事你永远不会爱自己一半就像我爱你一样，你永远不会善待自己，亲爱的，但我希望你这样做，如果我让你知道，我会在你身边，也许你会像我爱你一样爱自己，哦，我只是让这些小事从我嘴里溜走 因为是你，哦，是你 是你，它们加起来 我爱你 所有这些小事 我不会让这些小事从我嘴里溜走嘴 但如果这是真的，那就是你 就是你，它们加起来就是我爱你 还有你所有的小事\n"
          ]
        }
      ]
    },
    {
      "cell_type": "code",
      "source": [
        "wer_score = calculate_wer(translated_original_lyrics, translated_transcript_text)\n",
        "print(\"Word Error Rate (WER): {:.2%}\".format(wer_score))"
      ],
      "metadata": {
        "colab": {
          "base_uri": "https://localhost:8080/"
        },
        "id": "rAhdQbVFlRXg",
        "outputId": "b5db27d0-9c00-4b7d-8a0e-87ab1a4651e2"
      },
      "execution_count": null,
      "outputs": [
        {
          "output_type": "stream",
          "name": "stdout",
          "text": [
            "Word Error Rate (WER): 144.44%\n"
          ]
        }
      ]
    }
  ]
}